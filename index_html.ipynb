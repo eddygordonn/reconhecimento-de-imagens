{
  "nbformat": 4,
  "nbformat_minor": 0,
  "metadata": {
    "colab": {
      "provenance": [],
      "authorship_tag": "ABX9TyNwpNT5UBNZUSqtl4vsR26g"
    },
    "kernelspec": {
      "name": "python3",
      "display_name": "Python 3"
    },
    "language_info": {
      "name": "python"
    }
  },
  "cells": [
    {
      "cell_type": "code",
      "source": [
        "from google.colab import drive\n",
        "drive.mount('/content/drive')"
      ],
      "metadata": {
        "colab": {
          "base_uri": "https://localhost:8080/"
        },
        "id": "Ph9onZdC9UjU",
        "outputId": "2e423ce7-3ebf-4576-cc18-f94ad360b69c"
      },
      "execution_count": 1,
      "outputs": [
        {
          "output_type": "stream",
          "name": "stdout",
          "text": [
            "Mounted at /content/drive\n"
          ]
        }
      ]
    },
    {
      "cell_type": "code",
      "execution_count": null,
      "metadata": {
        "id": "x0dPvgGb9IQY"
      },
      "outputs": [],
      "source": [
        "<!DOCTYPE html>\n",
        "<html>\n",
        "<head>\n",
        "    <title>Reconhecimento de Imagens com Webcam</title>\n",
        "    <style>\n",
        "        body { font-family: Arial, sans-serif; margin: 20px; }\n",
        "        #camera { width: 640px; height: 480px; border: 1px solid #ccc; }\n",
        "        #result { margin-top: 20px; font-size: 18px; font-weight: bold; }\n",
        "        button { padding: 10px 15px; font-size: 16px; cursor: pointer; }\n",
        "    </style>\n",
        "</head>\n",
        "<body>\n",
        "    <h1>Reconhecimento de Objetos com Webcam</h1>\n",
        "    <video id=\"camera\" autoplay></video>\n",
        "    <div>\n",
        "        <button id=\"capture\">Capturar e Analisar</button>\n",
        "        <button id=\"startContinuous\">Iniciar Análise Contínua</button>\n",
        "        <button id=\"stopContinuous\" disabled>Parar Análise</button>\n",
        "    </div>\n",
        "    <div id=\"result\">Aguardando análise...</div>\n",
        "\n",
        "    <script>\n",
        "        const video = document.getElementById('camera');\n",
        "        const captureBtn = document.getElementById('capture');\n",
        "        const startBtn = document.getElementById('startContinuous');\n",
        "        const stopBtn = document.getElementById('stopContinuous');\n",
        "        const resultDiv = document.getElementById('result');\n",
        "\n",
        "        let continuousMode = false;\n",
        "        let intervalId = null;\n",
        "\n",
        "        // Acessar a webcam\n",
        "        navigator.mediaDevices.getUserMedia({ video: true })\n",
        "            .then(stream => {\n",
        "                video.srcObject = stream;\n",
        "            })\n",
        "            .catch(err => {\n",
        "                console.error(\"Erro ao acessar a webcam:\", err);\n",
        "                resultDiv.textContent = \"Erro ao acessar a webcam: \" + err.message;\n",
        "            });\n",
        "\n",
        "        // Função para capturar e enviar imagem\n",
        "        function captureAndAnalyze() {\n",
        "            const canvas = document.createElement('canvas');\n",
        "            canvas.width = video.videoWidth;\n",
        "            canvas.height = video.videoHeight;\n",
        "            canvas.getContext('2d').drawImage(video, 0, 0, canvas.width, canvas.height);\n",
        "\n",
        "            canvas.toBlob(blob => {\n",
        "                const formData = new FormData();\n",
        "                formData.append('image', blob, 'capture.jpg');\n",
        "\n",
        "                fetch('/analyze', {\n",
        "                    method: 'POST',\n",
        "                    body: formData\n",
        "                })\n",
        "                .then(response => response.json())\n",
        "                .then(data => {\n",
        "                    resultDiv.textContent = `Resultado: ${data.class} (${Math.round(data.confidence * 100)}%)`;\n",
        "                })\n",
        "                .catch(error => {\n",
        "                    console.error('Erro:', error);\n",
        "                    resultDiv.textContent = 'Erro ao analisar a imagem';\n",
        "                });\n",
        "            }, 'image/jpeg', 0.8);\n",
        "        }\n",
        "\n",
        "        // Event listeners\n",
        "        captureBtn.addEventListener('click', captureAndAnalyze);\n",
        "\n",
        "        startBtn.addEventListener('click', () => {\n",
        "            continuousMode = true;\n",
        "            startBtn.disabled = true;\n",
        "            stopBtn.disabled = false;\n",
        "            intervalId = setInterval(captureAndAnalyze, 2000); // Analisar a cada 2 segundos\n",
        "        });\n",
        "\n",
        "        stopBtn.addEventListener('click', () => {\n",
        "            continuousMode = false;\n",
        "            startBtn.disabled = false;\n",
        "            stopBtn.disabled = true;\n",
        "            clearInterval(intervalId);\n",
        "        });\n",
        "    </script>\n",
        "</body>\n",
        "</html>"
      ]
    }
  ]
}